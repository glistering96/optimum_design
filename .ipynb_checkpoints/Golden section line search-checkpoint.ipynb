{
 "cells": [
  {
   "cell_type": "code",
   "execution_count": 1,
   "id": "44bc900b",
   "metadata": {
    "ExecuteTime": {
     "end_time": "2022-05-18T14:48:25.651993Z",
     "start_time": "2022-05-18T14:48:24.521983Z"
    }
   },
   "outputs": [],
   "source": [
    "import numpy as np\n",
    "import matplotlib.pyplot as plt"
   ]
  },
  {
   "cell_type": "code",
   "execution_count": 9,
   "id": "48e917c9",
   "metadata": {
    "ExecuteTime": {
     "end_time": "2022-05-18T15:14:05.967718Z",
     "start_time": "2022-05-18T15:14:05.963717Z"
    }
   },
   "outputs": [
    {
     "name": "stdout",
     "output_type": "stream",
     "text": [
      "[0.1, 0.16180000000000003]\n",
      "[0.1, 0.16180000000000003, 0.4235801032000001]\n",
      "[0.1, 0.16180000000000003, 0.4235801032000001, 1.7942010382692275]\n",
      "[0.1, 0.16180000000000003, 0.4235801032000001, 1.7942010382692275, 12.29660359019732]\n"
     ]
    }
   ],
   "source": [
    "temp1 = [0.1]\n",
    "for i in range(1, 5):\n",
    "    temp1.append(temp1[i-1]*np.power(1.618, i))\n",
    "    print(temp1)"
   ]
  },
  {
   "cell_type": "code",
   "execution_count": 12,
   "id": "23d221ee",
   "metadata": {
    "ExecuteTime": {
     "end_time": "2022-05-18T15:17:34.130613Z",
     "start_time": "2022-05-18T15:17:34.122619Z"
    }
   },
   "outputs": [
    {
     "data": {
      "text/plain": [
       "0.5235924000000001"
      ]
     },
     "execution_count": 12,
     "metadata": {},
     "output_type": "execute_result"
    }
   ],
   "source": [
    "0.1+0.1618+0.2617924"
   ]
  },
  {
   "cell_type": "code",
   "execution_count": null,
   "id": "3b2ce82e",
   "metadata": {},
   "outputs": [],
   "source": [
    "def GSL(f, interval=0.1, eps=10^-5):\n",
    "    def _reduction_interval(l, r, a, b):\n",
    "        \n",
    "    def _bracket(h2, h1, current, ksi, q, delta):\n",
    "        _h2 = h1\n",
    "        _h1 = current\n",
    "        _current = current + delta*ksi^(q)\n",
    "        \n",
    "        return _h2, _h1, _current\n",
    "        \n",
    "    l_bound, r_bound, a, b = 0,0,0,0\n",
    "    converged = False\n",
    "    ksi = 1.618 # golden ratio\n",
    "    tau = 0.618\n",
    "    delta = interval\n",
    "    \n",
    "    while not converged:\n",
    "        # evaluate intervals\n",
    "        q  = 3\n",
    "        \n",
    "        h2, h1, current = f(delta), h2+f(delta*ksi^(q-2)), f(delta*ksi^(q-1))\n",
    "        \n",
    "        while q < 10^6:            \n",
    "            if h2 >= h1 and h1 <= current:\n",
    "                h2, h1, current = _bracket\n",
    "                \n",
    "            else:\n",
    "                h2 = h1\n",
    "                h1 = current\n",
    "                current = f(delta*ksi^(q))\n",
    "                \n",
    "        \n",
    "        I = r_bound - l_bound\n",
    "        b = l_bound + tau*I\n",
    "        \n",
    "        \n",
    "        while current \n",
    "    \n",
    "    "
   ]
  }
 ],
 "metadata": {
  "kernelspec": {
   "display_name": "Python 3 (ipykernel)",
   "language": "python",
   "name": "python3"
  },
  "language_info": {
   "codemirror_mode": {
    "name": "ipython",
    "version": 3
   },
   "file_extension": ".py",
   "mimetype": "text/x-python",
   "name": "python",
   "nbconvert_exporter": "python",
   "pygments_lexer": "ipython3",
   "version": "3.9.6"
  },
  "toc": {
   "base_numbering": 1,
   "nav_menu": {},
   "number_sections": true,
   "sideBar": true,
   "skip_h1_title": false,
   "title_cell": "Table of Contents",
   "title_sidebar": "Contents",
   "toc_cell": false,
   "toc_position": {},
   "toc_section_display": true,
   "toc_window_display": false
  }
 },
 "nbformat": 4,
 "nbformat_minor": 5
}
